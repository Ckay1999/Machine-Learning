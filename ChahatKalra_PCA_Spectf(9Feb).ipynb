{
 "cells": [
  {
   "cell_type": "markdown",
   "metadata": {},
   "source": [
    "### Importing the packages and dataset"
   ]
  },
  {
   "cell_type": "code",
   "execution_count": 1,
   "metadata": {
    "collapsed": true
   },
   "outputs": [],
   "source": [
    "# Importing the packages\n",
    "\n",
    "import numpy as np \n",
    "import pandas as pd\n",
    "import matplotlib.pyplot as plt\n",
    "import seaborn as sns\n",
    "import time\n",
    "import random\n",
    "\n",
    "%matplotlib inline\n",
    "plt.style.use('fivethirtyeight')"
   ]
  },
  {
   "cell_type": "code",
   "execution_count": 2,
   "metadata": {
    "collapsed": true
   },
   "outputs": [],
   "source": [
    "# Loading the dataset\n",
    "\n",
    "url = 'https://archive.ics.uci.edu/ml/machine-learning-databases/spect/SPECTF.train'\n",
    "col_names = ['target', 'F1R', 'F1S', 'F2R', 'F2S', 'F3R', 'F3S', 'F4R', 'F4S', 'F5R','F5S','F6R','F6S','F7R','F7S','F8R','F8S','F9R','F9S','F10R',\n",
    "    'F10S',  'F11R','F11S','F12R','F12S','F13R','F13S','F14R','F14S','F15R','F15S','F16R','F16S','F17R','F17S','F18R','F18S','F19R','F19S',   'F20R',\n",
    "    'F20S','F21R','F21S','F22R','F22S']\n",
    "spectf_df= pd.read_table(url,sep=',',names=col_names)"
   ]
  },
  {
   "cell_type": "code",
   "execution_count": 3,
   "metadata": {
    "collapsed": false
   },
   "outputs": [
    {
     "data": {
      "text/html": [
       "<div>\n",
       "<style scoped>\n",
       "    .dataframe tbody tr th:only-of-type {\n",
       "        vertical-align: middle;\n",
       "    }\n",
       "\n",
       "    .dataframe tbody tr th {\n",
       "        vertical-align: top;\n",
       "    }\n",
       "\n",
       "    .dataframe thead th {\n",
       "        text-align: right;\n",
       "    }\n",
       "</style>\n",
       "<table border=\"1\" class=\"dataframe\">\n",
       "  <thead>\n",
       "    <tr style=\"text-align: right;\">\n",
       "      <th></th>\n",
       "      <th>target</th>\n",
       "      <th>F1R</th>\n",
       "      <th>F1S</th>\n",
       "      <th>F2R</th>\n",
       "      <th>F2S</th>\n",
       "      <th>F3R</th>\n",
       "      <th>F3S</th>\n",
       "      <th>F4R</th>\n",
       "      <th>F4S</th>\n",
       "      <th>F5R</th>\n",
       "      <th>...</th>\n",
       "      <th>F18R</th>\n",
       "      <th>F18S</th>\n",
       "      <th>F19R</th>\n",
       "      <th>F19S</th>\n",
       "      <th>F20R</th>\n",
       "      <th>F20S</th>\n",
       "      <th>F21R</th>\n",
       "      <th>F21S</th>\n",
       "      <th>F22R</th>\n",
       "      <th>F22S</th>\n",
       "    </tr>\n",
       "  </thead>\n",
       "  <tbody>\n",
       "    <tr>\n",
       "      <th>0</th>\n",
       "      <td>1</td>\n",
       "      <td>59</td>\n",
       "      <td>52</td>\n",
       "      <td>70</td>\n",
       "      <td>67</td>\n",
       "      <td>73</td>\n",
       "      <td>66</td>\n",
       "      <td>72</td>\n",
       "      <td>61</td>\n",
       "      <td>58</td>\n",
       "      <td>...</td>\n",
       "      <td>66</td>\n",
       "      <td>56</td>\n",
       "      <td>62</td>\n",
       "      <td>56</td>\n",
       "      <td>72</td>\n",
       "      <td>62</td>\n",
       "      <td>74</td>\n",
       "      <td>74</td>\n",
       "      <td>64</td>\n",
       "      <td>67</td>\n",
       "    </tr>\n",
       "    <tr>\n",
       "      <th>1</th>\n",
       "      <td>1</td>\n",
       "      <td>72</td>\n",
       "      <td>62</td>\n",
       "      <td>69</td>\n",
       "      <td>67</td>\n",
       "      <td>78</td>\n",
       "      <td>82</td>\n",
       "      <td>74</td>\n",
       "      <td>65</td>\n",
       "      <td>69</td>\n",
       "      <td>...</td>\n",
       "      <td>65</td>\n",
       "      <td>71</td>\n",
       "      <td>63</td>\n",
       "      <td>60</td>\n",
       "      <td>69</td>\n",
       "      <td>73</td>\n",
       "      <td>67</td>\n",
       "      <td>71</td>\n",
       "      <td>56</td>\n",
       "      <td>58</td>\n",
       "    </tr>\n",
       "    <tr>\n",
       "      <th>2</th>\n",
       "      <td>1</td>\n",
       "      <td>71</td>\n",
       "      <td>62</td>\n",
       "      <td>70</td>\n",
       "      <td>64</td>\n",
       "      <td>67</td>\n",
       "      <td>64</td>\n",
       "      <td>79</td>\n",
       "      <td>65</td>\n",
       "      <td>70</td>\n",
       "      <td>...</td>\n",
       "      <td>73</td>\n",
       "      <td>70</td>\n",
       "      <td>66</td>\n",
       "      <td>65</td>\n",
       "      <td>64</td>\n",
       "      <td>55</td>\n",
       "      <td>61</td>\n",
       "      <td>41</td>\n",
       "      <td>51</td>\n",
       "      <td>46</td>\n",
       "    </tr>\n",
       "    <tr>\n",
       "      <th>3</th>\n",
       "      <td>1</td>\n",
       "      <td>69</td>\n",
       "      <td>71</td>\n",
       "      <td>70</td>\n",
       "      <td>78</td>\n",
       "      <td>61</td>\n",
       "      <td>63</td>\n",
       "      <td>67</td>\n",
       "      <td>65</td>\n",
       "      <td>59</td>\n",
       "      <td>...</td>\n",
       "      <td>61</td>\n",
       "      <td>61</td>\n",
       "      <td>66</td>\n",
       "      <td>65</td>\n",
       "      <td>72</td>\n",
       "      <td>73</td>\n",
       "      <td>68</td>\n",
       "      <td>68</td>\n",
       "      <td>59</td>\n",
       "      <td>63</td>\n",
       "    </tr>\n",
       "    <tr>\n",
       "      <th>4</th>\n",
       "      <td>1</td>\n",
       "      <td>70</td>\n",
       "      <td>66</td>\n",
       "      <td>61</td>\n",
       "      <td>66</td>\n",
       "      <td>61</td>\n",
       "      <td>58</td>\n",
       "      <td>69</td>\n",
       "      <td>69</td>\n",
       "      <td>72</td>\n",
       "      <td>...</td>\n",
       "      <td>67</td>\n",
       "      <td>69</td>\n",
       "      <td>70</td>\n",
       "      <td>66</td>\n",
       "      <td>70</td>\n",
       "      <td>64</td>\n",
       "      <td>60</td>\n",
       "      <td>55</td>\n",
       "      <td>49</td>\n",
       "      <td>41</td>\n",
       "    </tr>\n",
       "  </tbody>\n",
       "</table>\n",
       "<p>5 rows × 45 columns</p>\n",
       "</div>"
      ],
      "text/plain": [
       "   target  F1R  F1S  F2R  F2S  F3R  F3S  F4R  F4S  F5R  ...  F18R  F18S  F19R  \\\n",
       "0       1   59   52   70   67   73   66   72   61   58  ...    66    56    62   \n",
       "1       1   72   62   69   67   78   82   74   65   69  ...    65    71    63   \n",
       "2       1   71   62   70   64   67   64   79   65   70  ...    73    70    66   \n",
       "3       1   69   71   70   78   61   63   67   65   59  ...    61    61    66   \n",
       "4       1   70   66   61   66   61   58   69   69   72  ...    67    69    70   \n",
       "\n",
       "   F19S  F20R  F20S  F21R  F21S  F22R  F22S  \n",
       "0    56    72    62    74    74    64    67  \n",
       "1    60    69    73    67    71    56    58  \n",
       "2    65    64    55    61    41    51    46  \n",
       "3    65    72    73    68    68    59    63  \n",
       "4    66    70    64    60    55    49    41  \n",
       "\n",
       "[5 rows x 45 columns]"
      ]
     },
     "execution_count": 3,
     "metadata": {},
     "output_type": "execute_result"
    }
   ],
   "source": [
    "#check the head of the data\n",
    "spectf_df.head()"
   ]
  },
  {
   "cell_type": "code",
   "execution_count": 4,
   "metadata": {
    "collapsed": true
   },
   "outputs": [],
   "source": [
    "# Loading the dataset\n",
    "\n",
    "url = 'https://archive.ics.uci.edu/ml/machine-learning-databases/spect/SPECTF.test'\n",
    "col_names = ['target','F1R', 'F1S', 'F2R', 'F2S', 'F3R', 'F3S', 'F4R', 'F4S', 'F5R','F5S','F6R','F6S','F7R','F7S','F8R','F8S','F9R','F9S','F10R',\n",
    "    'F10S',  'F11R','F11S','F12R','F12S','F13R','F13S','F14R','F14S','F15R','F15S','F16R','F16S','F17R','F17S','F18R','F18S','F19R','F19S',   'F20R',\n",
    "    'F20S','F21R','F21S','F22R','F22S']\n",
    "spectf_test= pd.read_table(url,sep=',',names=col_names)"
   ]
  },
  {
   "cell_type": "code",
   "execution_count": 5,
   "metadata": {
    "collapsed": false
   },
   "outputs": [
    {
     "data": {
      "text/html": [
       "<div>\n",
       "<style scoped>\n",
       "    .dataframe tbody tr th:only-of-type {\n",
       "        vertical-align: middle;\n",
       "    }\n",
       "\n",
       "    .dataframe tbody tr th {\n",
       "        vertical-align: top;\n",
       "    }\n",
       "\n",
       "    .dataframe thead th {\n",
       "        text-align: right;\n",
       "    }\n",
       "</style>\n",
       "<table border=\"1\" class=\"dataframe\">\n",
       "  <thead>\n",
       "    <tr style=\"text-align: right;\">\n",
       "      <th></th>\n",
       "      <th>target</th>\n",
       "      <th>F1R</th>\n",
       "      <th>F1S</th>\n",
       "      <th>F2R</th>\n",
       "      <th>F2S</th>\n",
       "      <th>F3R</th>\n",
       "      <th>F3S</th>\n",
       "      <th>F4R</th>\n",
       "      <th>F4S</th>\n",
       "      <th>F5R</th>\n",
       "      <th>...</th>\n",
       "      <th>F18R</th>\n",
       "      <th>F18S</th>\n",
       "      <th>F19R</th>\n",
       "      <th>F19S</th>\n",
       "      <th>F20R</th>\n",
       "      <th>F20S</th>\n",
       "      <th>F21R</th>\n",
       "      <th>F21S</th>\n",
       "      <th>F22R</th>\n",
       "      <th>F22S</th>\n",
       "    </tr>\n",
       "  </thead>\n",
       "  <tbody>\n",
       "    <tr>\n",
       "      <th>0</th>\n",
       "      <td>1</td>\n",
       "      <td>67</td>\n",
       "      <td>68</td>\n",
       "      <td>73</td>\n",
       "      <td>78</td>\n",
       "      <td>65</td>\n",
       "      <td>63</td>\n",
       "      <td>67</td>\n",
       "      <td>60</td>\n",
       "      <td>63</td>\n",
       "      <td>...</td>\n",
       "      <td>61</td>\n",
       "      <td>56</td>\n",
       "      <td>76</td>\n",
       "      <td>75</td>\n",
       "      <td>74</td>\n",
       "      <td>77</td>\n",
       "      <td>76</td>\n",
       "      <td>74</td>\n",
       "      <td>59</td>\n",
       "      <td>68</td>\n",
       "    </tr>\n",
       "    <tr>\n",
       "      <th>1</th>\n",
       "      <td>1</td>\n",
       "      <td>75</td>\n",
       "      <td>74</td>\n",
       "      <td>71</td>\n",
       "      <td>71</td>\n",
       "      <td>62</td>\n",
       "      <td>58</td>\n",
       "      <td>70</td>\n",
       "      <td>64</td>\n",
       "      <td>71</td>\n",
       "      <td>...</td>\n",
       "      <td>66</td>\n",
       "      <td>62</td>\n",
       "      <td>68</td>\n",
       "      <td>69</td>\n",
       "      <td>69</td>\n",
       "      <td>66</td>\n",
       "      <td>64</td>\n",
       "      <td>58</td>\n",
       "      <td>57</td>\n",
       "      <td>52</td>\n",
       "    </tr>\n",
       "    <tr>\n",
       "      <th>2</th>\n",
       "      <td>1</td>\n",
       "      <td>83</td>\n",
       "      <td>64</td>\n",
       "      <td>66</td>\n",
       "      <td>67</td>\n",
       "      <td>67</td>\n",
       "      <td>74</td>\n",
       "      <td>74</td>\n",
       "      <td>72</td>\n",
       "      <td>64</td>\n",
       "      <td>...</td>\n",
       "      <td>67</td>\n",
       "      <td>64</td>\n",
       "      <td>69</td>\n",
       "      <td>63</td>\n",
       "      <td>68</td>\n",
       "      <td>54</td>\n",
       "      <td>65</td>\n",
       "      <td>64</td>\n",
       "      <td>43</td>\n",
       "      <td>42</td>\n",
       "    </tr>\n",
       "    <tr>\n",
       "      <th>3</th>\n",
       "      <td>1</td>\n",
       "      <td>72</td>\n",
       "      <td>66</td>\n",
       "      <td>65</td>\n",
       "      <td>65</td>\n",
       "      <td>64</td>\n",
       "      <td>61</td>\n",
       "      <td>71</td>\n",
       "      <td>78</td>\n",
       "      <td>73</td>\n",
       "      <td>...</td>\n",
       "      <td>69</td>\n",
       "      <td>68</td>\n",
       "      <td>68</td>\n",
       "      <td>63</td>\n",
       "      <td>71</td>\n",
       "      <td>72</td>\n",
       "      <td>65</td>\n",
       "      <td>63</td>\n",
       "      <td>58</td>\n",
       "      <td>60</td>\n",
       "    </tr>\n",
       "    <tr>\n",
       "      <th>4</th>\n",
       "      <td>1</td>\n",
       "      <td>62</td>\n",
       "      <td>60</td>\n",
       "      <td>69</td>\n",
       "      <td>61</td>\n",
       "      <td>63</td>\n",
       "      <td>63</td>\n",
       "      <td>70</td>\n",
       "      <td>68</td>\n",
       "      <td>70</td>\n",
       "      <td>...</td>\n",
       "      <td>66</td>\n",
       "      <td>66</td>\n",
       "      <td>58</td>\n",
       "      <td>56</td>\n",
       "      <td>72</td>\n",
       "      <td>73</td>\n",
       "      <td>71</td>\n",
       "      <td>64</td>\n",
       "      <td>49</td>\n",
       "      <td>42</td>\n",
       "    </tr>\n",
       "  </tbody>\n",
       "</table>\n",
       "<p>5 rows × 45 columns</p>\n",
       "</div>"
      ],
      "text/plain": [
       "   target  F1R  F1S  F2R  F2S  F3R  F3S  F4R  F4S  F5R  ...  F18R  F18S  F19R  \\\n",
       "0       1   67   68   73   78   65   63   67   60   63  ...    61    56    76   \n",
       "1       1   75   74   71   71   62   58   70   64   71  ...    66    62    68   \n",
       "2       1   83   64   66   67   67   74   74   72   64  ...    67    64    69   \n",
       "3       1   72   66   65   65   64   61   71   78   73  ...    69    68    68   \n",
       "4       1   62   60   69   61   63   63   70   68   70  ...    66    66    58   \n",
       "\n",
       "   F19S  F20R  F20S  F21R  F21S  F22R  F22S  \n",
       "0    75    74    77    76    74    59    68  \n",
       "1    69    69    66    64    58    57    52  \n",
       "2    63    68    54    65    64    43    42  \n",
       "3    63    71    72    65    63    58    60  \n",
       "4    56    72    73    71    64    49    42  \n",
       "\n",
       "[5 rows x 45 columns]"
      ]
     },
     "execution_count": 5,
     "metadata": {},
     "output_type": "execute_result"
    }
   ],
   "source": [
    "spectf_test.head()"
   ]
  },
  {
   "cell_type": "code",
   "execution_count": 6,
   "metadata": {
    "collapsed": false
   },
   "outputs": [
    {
     "name": "stdout",
     "output_type": "stream",
     "text": [
      "<class 'pandas.core.frame.DataFrame'>\n",
      "RangeIndex: 80 entries, 0 to 79\n",
      "Data columns (total 45 columns):\n",
      " #   Column  Non-Null Count  Dtype\n",
      "---  ------  --------------  -----\n",
      " 0   target  80 non-null     int64\n",
      " 1   F1R     80 non-null     int64\n",
      " 2   F1S     80 non-null     int64\n",
      " 3   F2R     80 non-null     int64\n",
      " 4   F2S     80 non-null     int64\n",
      " 5   F3R     80 non-null     int64\n",
      " 6   F3S     80 non-null     int64\n",
      " 7   F4R     80 non-null     int64\n",
      " 8   F4S     80 non-null     int64\n",
      " 9   F5R     80 non-null     int64\n",
      " 10  F5S     80 non-null     int64\n",
      " 11  F6R     80 non-null     int64\n",
      " 12  F6S     80 non-null     int64\n",
      " 13  F7R     80 non-null     int64\n",
      " 14  F7S     80 non-null     int64\n",
      " 15  F8R     80 non-null     int64\n",
      " 16  F8S     80 non-null     int64\n",
      " 17  F9R     80 non-null     int64\n",
      " 18  F9S     80 non-null     int64\n",
      " 19  F10R    80 non-null     int64\n",
      " 20  F10S    80 non-null     int64\n",
      " 21  F11R    80 non-null     int64\n",
      " 22  F11S    80 non-null     int64\n",
      " 23  F12R    80 non-null     int64\n",
      " 24  F12S    80 non-null     int64\n",
      " 25  F13R    80 non-null     int64\n",
      " 26  F13S    80 non-null     int64\n",
      " 27  F14R    80 non-null     int64\n",
      " 28  F14S    80 non-null     int64\n",
      " 29  F15R    80 non-null     int64\n",
      " 30  F15S    80 non-null     int64\n",
      " 31  F16R    80 non-null     int64\n",
      " 32  F16S    80 non-null     int64\n",
      " 33  F17R    80 non-null     int64\n",
      " 34  F17S    80 non-null     int64\n",
      " 35  F18R    80 non-null     int64\n",
      " 36  F18S    80 non-null     int64\n",
      " 37  F19R    80 non-null     int64\n",
      " 38  F19S    80 non-null     int64\n",
      " 39  F20R    80 non-null     int64\n",
      " 40  F20S    80 non-null     int64\n",
      " 41  F21R    80 non-null     int64\n",
      " 42  F21S    80 non-null     int64\n",
      " 43  F22R    80 non-null     int64\n",
      " 44  F22S    80 non-null     int64\n",
      "dtypes: int64(45)\n",
      "memory usage: 28.2 KB\n"
     ]
    }
   ],
   "source": [
    "spectf_df.info()"
   ]
  },
  {
   "cell_type": "code",
   "execution_count": 7,
   "metadata": {
    "collapsed": false
   },
   "outputs": [
    {
     "data": {
      "text/html": [
       "<div>\n",
       "<style scoped>\n",
       "    .dataframe tbody tr th:only-of-type {\n",
       "        vertical-align: middle;\n",
       "    }\n",
       "\n",
       "    .dataframe tbody tr th {\n",
       "        vertical-align: top;\n",
       "    }\n",
       "\n",
       "    .dataframe thead th {\n",
       "        text-align: right;\n",
       "    }\n",
       "</style>\n",
       "<table border=\"1\" class=\"dataframe\">\n",
       "  <thead>\n",
       "    <tr style=\"text-align: right;\">\n",
       "      <th></th>\n",
       "      <th>target</th>\n",
       "      <th>F1R</th>\n",
       "      <th>F1S</th>\n",
       "      <th>F2R</th>\n",
       "      <th>F2S</th>\n",
       "      <th>F3R</th>\n",
       "      <th>F3S</th>\n",
       "      <th>F4R</th>\n",
       "      <th>F4S</th>\n",
       "      <th>F5R</th>\n",
       "      <th>...</th>\n",
       "      <th>F18R</th>\n",
       "      <th>F18S</th>\n",
       "      <th>F19R</th>\n",
       "      <th>F19S</th>\n",
       "      <th>F20R</th>\n",
       "      <th>F20S</th>\n",
       "      <th>F21R</th>\n",
       "      <th>F21S</th>\n",
       "      <th>F22R</th>\n",
       "      <th>F22S</th>\n",
       "    </tr>\n",
       "  </thead>\n",
       "  <tbody>\n",
       "    <tr>\n",
       "      <th>count</th>\n",
       "      <td>80.000000</td>\n",
       "      <td>80.000000</td>\n",
       "      <td>80.00000</td>\n",
       "      <td>80.000000</td>\n",
       "      <td>80.000000</td>\n",
       "      <td>80.000000</td>\n",
       "      <td>80.000000</td>\n",
       "      <td>80.000000</td>\n",
       "      <td>80.000000</td>\n",
       "      <td>80.000000</td>\n",
       "      <td>...</td>\n",
       "      <td>80.00000</td>\n",
       "      <td>80.000000</td>\n",
       "      <td>80.000000</td>\n",
       "      <td>80.00000</td>\n",
       "      <td>80.000000</td>\n",
       "      <td>80.000000</td>\n",
       "      <td>80.00000</td>\n",
       "      <td>80.000000</td>\n",
       "      <td>80.000000</td>\n",
       "      <td>80.000000</td>\n",
       "    </tr>\n",
       "    <tr>\n",
       "      <th>mean</th>\n",
       "      <td>0.500000</td>\n",
       "      <td>68.650000</td>\n",
       "      <td>67.55000</td>\n",
       "      <td>69.550000</td>\n",
       "      <td>70.850000</td>\n",
       "      <td>67.100000</td>\n",
       "      <td>67.687500</td>\n",
       "      <td>72.075000</td>\n",
       "      <td>71.387500</td>\n",
       "      <td>64.362500</td>\n",
       "      <td>...</td>\n",
       "      <td>65.18750</td>\n",
       "      <td>64.662500</td>\n",
       "      <td>65.612500</td>\n",
       "      <td>65.01250</td>\n",
       "      <td>69.437500</td>\n",
       "      <td>68.412500</td>\n",
       "      <td>66.33750</td>\n",
       "      <td>65.100000</td>\n",
       "      <td>55.975000</td>\n",
       "      <td>55.075000</td>\n",
       "    </tr>\n",
       "    <tr>\n",
       "      <th>std</th>\n",
       "      <td>0.503155</td>\n",
       "      <td>5.594075</td>\n",
       "      <td>6.88403</td>\n",
       "      <td>5.901941</td>\n",
       "      <td>6.326757</td>\n",
       "      <td>6.251278</td>\n",
       "      <td>6.622925</td>\n",
       "      <td>4.090047</td>\n",
       "      <td>5.715831</td>\n",
       "      <td>7.425996</td>\n",
       "      <td>...</td>\n",
       "      <td>5.71273</td>\n",
       "      <td>7.538834</td>\n",
       "      <td>7.694308</td>\n",
       "      <td>9.44336</td>\n",
       "      <td>7.809186</td>\n",
       "      <td>8.582723</td>\n",
       "      <td>10.62591</td>\n",
       "      <td>11.345662</td>\n",
       "      <td>10.779698</td>\n",
       "      <td>12.119422</td>\n",
       "    </tr>\n",
       "    <tr>\n",
       "      <th>min</th>\n",
       "      <td>0.000000</td>\n",
       "      <td>57.000000</td>\n",
       "      <td>51.00000</td>\n",
       "      <td>52.000000</td>\n",
       "      <td>51.000000</td>\n",
       "      <td>47.000000</td>\n",
       "      <td>46.000000</td>\n",
       "      <td>63.000000</td>\n",
       "      <td>56.000000</td>\n",
       "      <td>26.000000</td>\n",
       "      <td>...</td>\n",
       "      <td>31.00000</td>\n",
       "      <td>13.000000</td>\n",
       "      <td>33.000000</td>\n",
       "      <td>23.00000</td>\n",
       "      <td>31.000000</td>\n",
       "      <td>30.000000</td>\n",
       "      <td>31.00000</td>\n",
       "      <td>30.000000</td>\n",
       "      <td>11.000000</td>\n",
       "      <td>11.000000</td>\n",
       "    </tr>\n",
       "    <tr>\n",
       "      <th>25%</th>\n",
       "      <td>0.000000</td>\n",
       "      <td>64.750000</td>\n",
       "      <td>64.00000</td>\n",
       "      <td>66.000000</td>\n",
       "      <td>67.000000</td>\n",
       "      <td>63.750000</td>\n",
       "      <td>63.750000</td>\n",
       "      <td>68.750000</td>\n",
       "      <td>69.000000</td>\n",
       "      <td>61.000000</td>\n",
       "      <td>...</td>\n",
       "      <td>63.00000</td>\n",
       "      <td>63.000000</td>\n",
       "      <td>62.750000</td>\n",
       "      <td>62.00000</td>\n",
       "      <td>65.000000</td>\n",
       "      <td>65.000000</td>\n",
       "      <td>64.00000</td>\n",
       "      <td>63.000000</td>\n",
       "      <td>53.000000</td>\n",
       "      <td>52.750000</td>\n",
       "    </tr>\n",
       "    <tr>\n",
       "      <th>50%</th>\n",
       "      <td>0.500000</td>\n",
       "      <td>69.000000</td>\n",
       "      <td>67.00000</td>\n",
       "      <td>70.000000</td>\n",
       "      <td>72.000000</td>\n",
       "      <td>68.000000</td>\n",
       "      <td>68.500000</td>\n",
       "      <td>72.500000</td>\n",
       "      <td>72.000000</td>\n",
       "      <td>65.000000</td>\n",
       "      <td>...</td>\n",
       "      <td>66.00000</td>\n",
       "      <td>65.500000</td>\n",
       "      <td>66.000000</td>\n",
       "      <td>66.50000</td>\n",
       "      <td>70.500000</td>\n",
       "      <td>71.000000</td>\n",
       "      <td>69.00000</td>\n",
       "      <td>68.000000</td>\n",
       "      <td>59.000000</td>\n",
       "      <td>58.000000</td>\n",
       "    </tr>\n",
       "    <tr>\n",
       "      <th>75%</th>\n",
       "      <td>1.000000</td>\n",
       "      <td>72.000000</td>\n",
       "      <td>73.00000</td>\n",
       "      <td>74.000000</td>\n",
       "      <td>75.250000</td>\n",
       "      <td>71.000000</td>\n",
       "      <td>71.250000</td>\n",
       "      <td>75.000000</td>\n",
       "      <td>75.000000</td>\n",
       "      <td>68.250000</td>\n",
       "      <td>...</td>\n",
       "      <td>68.00000</td>\n",
       "      <td>69.000000</td>\n",
       "      <td>71.000000</td>\n",
       "      <td>71.00000</td>\n",
       "      <td>74.000000</td>\n",
       "      <td>74.000000</td>\n",
       "      <td>73.25000</td>\n",
       "      <td>71.000000</td>\n",
       "      <td>63.000000</td>\n",
       "      <td>63.000000</td>\n",
       "    </tr>\n",
       "    <tr>\n",
       "      <th>max</th>\n",
       "      <td>1.000000</td>\n",
       "      <td>80.000000</td>\n",
       "      <td>81.00000</td>\n",
       "      <td>82.000000</td>\n",
       "      <td>84.000000</td>\n",
       "      <td>78.000000</td>\n",
       "      <td>89.000000</td>\n",
       "      <td>79.000000</td>\n",
       "      <td>83.000000</td>\n",
       "      <td>77.000000</td>\n",
       "      <td>...</td>\n",
       "      <td>73.00000</td>\n",
       "      <td>73.000000</td>\n",
       "      <td>77.000000</td>\n",
       "      <td>77.00000</td>\n",
       "      <td>83.000000</td>\n",
       "      <td>80.000000</td>\n",
       "      <td>79.00000</td>\n",
       "      <td>83.000000</td>\n",
       "      <td>71.000000</td>\n",
       "      <td>73.000000</td>\n",
       "    </tr>\n",
       "  </tbody>\n",
       "</table>\n",
       "<p>8 rows × 45 columns</p>\n",
       "</div>"
      ],
      "text/plain": [
       "          target        F1R       F1S        F2R        F2S        F3R  \\\n",
       "count  80.000000  80.000000  80.00000  80.000000  80.000000  80.000000   \n",
       "mean    0.500000  68.650000  67.55000  69.550000  70.850000  67.100000   \n",
       "std     0.503155   5.594075   6.88403   5.901941   6.326757   6.251278   \n",
       "min     0.000000  57.000000  51.00000  52.000000  51.000000  47.000000   \n",
       "25%     0.000000  64.750000  64.00000  66.000000  67.000000  63.750000   \n",
       "50%     0.500000  69.000000  67.00000  70.000000  72.000000  68.000000   \n",
       "75%     1.000000  72.000000  73.00000  74.000000  75.250000  71.000000   \n",
       "max     1.000000  80.000000  81.00000  82.000000  84.000000  78.000000   \n",
       "\n",
       "             F3S        F4R        F4S        F5R  ...      F18R       F18S  \\\n",
       "count  80.000000  80.000000  80.000000  80.000000  ...  80.00000  80.000000   \n",
       "mean   67.687500  72.075000  71.387500  64.362500  ...  65.18750  64.662500   \n",
       "std     6.622925   4.090047   5.715831   7.425996  ...   5.71273   7.538834   \n",
       "min    46.000000  63.000000  56.000000  26.000000  ...  31.00000  13.000000   \n",
       "25%    63.750000  68.750000  69.000000  61.000000  ...  63.00000  63.000000   \n",
       "50%    68.500000  72.500000  72.000000  65.000000  ...  66.00000  65.500000   \n",
       "75%    71.250000  75.000000  75.000000  68.250000  ...  68.00000  69.000000   \n",
       "max    89.000000  79.000000  83.000000  77.000000  ...  73.00000  73.000000   \n",
       "\n",
       "            F19R      F19S       F20R       F20S      F21R       F21S  \\\n",
       "count  80.000000  80.00000  80.000000  80.000000  80.00000  80.000000   \n",
       "mean   65.612500  65.01250  69.437500  68.412500  66.33750  65.100000   \n",
       "std     7.694308   9.44336   7.809186   8.582723  10.62591  11.345662   \n",
       "min    33.000000  23.00000  31.000000  30.000000  31.00000  30.000000   \n",
       "25%    62.750000  62.00000  65.000000  65.000000  64.00000  63.000000   \n",
       "50%    66.000000  66.50000  70.500000  71.000000  69.00000  68.000000   \n",
       "75%    71.000000  71.00000  74.000000  74.000000  73.25000  71.000000   \n",
       "max    77.000000  77.00000  83.000000  80.000000  79.00000  83.000000   \n",
       "\n",
       "            F22R       F22S  \n",
       "count  80.000000  80.000000  \n",
       "mean   55.975000  55.075000  \n",
       "std    10.779698  12.119422  \n",
       "min    11.000000  11.000000  \n",
       "25%    53.000000  52.750000  \n",
       "50%    59.000000  58.000000  \n",
       "75%    63.000000  63.000000  \n",
       "max    71.000000  73.000000  \n",
       "\n",
       "[8 rows x 45 columns]"
      ]
     },
     "execution_count": 7,
     "metadata": {},
     "output_type": "execute_result"
    }
   ],
   "source": [
    "spectf_df.describe()"
   ]
  },
  {
   "cell_type": "code",
   "execution_count": 10,
   "metadata": {
    "collapsed": false
   },
   "outputs": [
    {
     "data": {
      "text/plain": [
       "Text(0.5, 1.0, 'Correlation between different features')"
      ]
     },
     "execution_count": 10,
     "metadata": {},
     "output_type": "execute_result"
    },
    {
     "data": {
      "image/png": "[encoded data removed]",
      "text/plain": [
       "<Figure size 432x288 with 2 Axes>"
      ]
     },
     "metadata": {},
     "output_type": "display_data"
    }
   ],
   "source": [
    "#check the correlation between the variables\n",
    "\n",
    "correlation = spectf_df.corr()\n",
    "sns.heatmap(correlation, vmax=1, square=True,cmap='viridis')\n",
    "plt.title('Correlation between different features')"
   ]
  },
  {
   "cell_type": "markdown",
   "metadata": {},
   "source": [
    "### Splitting labels and features"
   ]
  },
  {
   "cell_type": "code",
   "execution_count": 11,
   "metadata": {
    "collapsed": true
   },
   "outputs": [],
   "source": [
    "target = spectf_df['target']\n",
    "spectf_df.drop('target',axis=1,inplace=True)"
   ]
  },
  {
   "cell_type": "code",
   "execution_count": 12,
   "metadata": {
    "collapsed": false
   },
   "outputs": [
    {
     "data": {
      "text/plain": [
       "(80, 44)"
      ]
     },
     "execution_count": 12,
     "metadata": {},
     "output_type": "execute_result"
    }
   ],
   "source": [
    "spectf_df.shape"
   ]
  },
  {
   "cell_type": "code",
   "execution_count": 13,
   "metadata": {
    "collapsed": true
   },
   "outputs": [],
   "source": [
    "target_t = spectf_test['target']\n",
    "spectf_test.drop('target',axis=1,inplace=True)"
   ]
  },
  {
   "cell_type": "code",
   "execution_count": 14,
   "metadata": {
    "collapsed": false
   },
   "outputs": [
    {
     "data": {
      "text/plain": [
       "(187, 44)"
      ]
     },
     "execution_count": 14,
     "metadata": {},
     "output_type": "execute_result"
    }
   ],
   "source": [
    "spectf_test.shape"
   ]
  },
  {
   "cell_type": "markdown",
   "metadata": {},
   "source": [
    "### Normalizing the input columns"
   ]
  },
  {
   "cell_type": "code",
   "execution_count": 15,
   "metadata": {
    "collapsed": true
   },
   "outputs": [],
   "source": [
    "from sklearn.preprocessing import StandardScaler\n",
    "scaler=StandardScaler()\n",
    "spect_df = scaler.fit_transform(spectf_df)\n",
    "spect_test = scaler.fit_transform(spectf_test)"
   ]
  },
  {
   "cell_type": "code",
   "execution_count": 16,
   "metadata": {
    "collapsed": false
   },
   "outputs": [
    {
     "data": {
      "text/plain": [
       "array([[-1.73592319, -2.27310275,  0.07672715, ...,  0.78938997,\n",
       "         0.74915189,  0.99016585],\n",
       "       [ 0.60262619, -0.81130034, -0.09377763, ...,  0.52330347,\n",
       "         0.00233381,  0.24287087],\n",
       "       [ 0.42273777, -0.81130034,  0.07672715, ..., -2.13756161,\n",
       "        -0.46442749, -0.75352244],\n",
       "       ...,\n",
       "       [-0.29681588, -0.51893986,  0.58824149, ...,  1.32156299,\n",
       "         1.02920866,  1.07319862],\n",
       "       [-0.11692747, -0.37275961,  0.41773671, ..., -0.80712907,\n",
       "         0.18903833, -0.91958799],\n",
       "       [-0.4767043 , -1.98074227, -0.09377763, ...,  0.25721696,\n",
       "         0.28239059,  0.32590364]])"
      ]
     },
     "execution_count": 16,
     "metadata": {},
     "output_type": "execute_result"
    }
   ],
   "source": [
    "spect_df"
   ]
  },
  {
   "cell_type": "code",
   "execution_count": 17,
   "metadata": {
    "collapsed": false
   },
   "outputs": [
    {
     "data": {
      "text/plain": [
       "array([[ 0.20940529,  0.41596002,  0.68734602, ...,  0.96547463,\n",
       "         0.59118869,  1.28968911],\n",
       "       [ 1.10446332,  1.00822796,  0.39455854, ..., -0.02516326,\n",
       "         0.44098178,  0.22637971],\n",
       "       [ 1.99952135,  0.02111472, -0.33741018, ...,  0.34632595,\n",
       "        -0.61046658, -0.43818867],\n",
       "       ...,\n",
       "       [ 1.10446332,  0.90951664,  0.54095228, ...,  1.0273895 ,\n",
       "         1.19201632,  1.48905963],\n",
       "       [-0.68565274, -0.17630793,  0.54095228, ...,  1.08930437,\n",
       "         1.41732668,  1.42260279],\n",
       "       [-0.12624147,  0.21853737, -0.04462269, ...,  0.34632595,\n",
       "         0.44098178,  0.35929338]])"
      ]
     },
     "execution_count": 17,
     "metadata": {},
     "output_type": "execute_result"
    }
   ],
   "source": [
    "spect_test"
   ]
  },
  {
   "cell_type": "markdown",
   "metadata": {},
   "source": [
    "### Logistic Regression"
   ]
  },
  {
   "cell_type": "code",
   "execution_count": 18,
   "metadata": {
    "collapsed": false
   },
   "outputs": [
    {
     "data": {
      "text/plain": [
       "LogisticRegression(C=1e+42, class_weight=None, dual=False, fit_intercept=True,\n",
       "                   intercept_scaling=1, l1_ratio=None, max_iter=100,\n",
       "                   multi_class='auto', n_jobs=None, penalty='l2',\n",
       "                   random_state=None, solver='lbfgs', tol=0.0001, verbose=0,\n",
       "                   warm_start=False)"
      ]
     },
     "execution_count": 18,
     "metadata": {},
     "output_type": "execute_result"
    }
   ],
   "source": [
    "# train a logistic regression model on the training set\n",
    "from sklearn.linear_model import LogisticRegression\n",
    "\n",
    "# instantiate model\n",
    "logreg = LogisticRegression(C=1e42)\n",
    "\n",
    "# fit model\n",
    "logreg.fit(spect_df, target)"
   ]
  },
  {
   "cell_type": "code",
   "execution_count": 19,
   "metadata": {
    "collapsed": true
   },
   "outputs": [],
   "source": [
    "# make class predictions for the testing set\n",
    "y_pred_class = logreg.predict(spect_test)"
   ]
  },
  {
   "cell_type": "code",
   "execution_count": 20,
   "metadata": {
    "collapsed": false
   },
   "outputs": [
    {
     "name": "stdout",
     "output_type": "stream",
     "text": [
      "0.5080213903743316\n"
     ]
    }
   ],
   "source": [
    "# calculate accuracy and other metrics\n",
    "from sklearn import metrics\n",
    "\n",
    "print(metrics.accuracy_score(target_t, y_pred_class))"
   ]
  },
  {
   "cell_type": "code",
   "execution_count": 21,
   "metadata": {
    "collapsed": false
   },
   "outputs": [
    {
     "name": "stdout",
     "output_type": "stream",
     "text": [
      "              precision    recall  f1-score   support\n",
      "\n",
      "           0       0.12      0.80      0.21        15\n",
      "           1       0.97      0.48      0.64       172\n",
      "\n",
      "    accuracy                           0.51       187\n",
      "   macro avg       0.54      0.64      0.43       187\n",
      "weighted avg       0.90      0.51      0.61       187\n",
      "\n"
     ]
    }
   ],
   "source": [
    "print (metrics.classification_report(target_t, y_pred_class))"
   ]
  },
  {
   "cell_type": "code",
   "execution_count": 22,
   "metadata": {
    "collapsed": false
   },
   "outputs": [
    {
     "name": "stdout",
     "output_type": "stream",
     "text": [
      "[[12  3]\n",
      " [89 83]]\n"
     ]
    }
   ],
   "source": [
    "print(metrics.confusion_matrix(target_t,y_pred_class))"
   ]
  },
  {
   "cell_type": "markdown",
   "metadata": {},
   "source": [
    "### Applying PCA to logistic regression model"
   ]
  },
  {
   "cell_type": "code",
   "execution_count": 29,
   "metadata": {
    "collapsed": false
   },
   "outputs": [
    {
     "data": {
      "text/plain": [
       "PCA(copy=True, iterated_power='auto', n_components=None, random_state=None,\n",
       "    svd_solver='auto', tol=0.0, whiten=False)"
      ]
     },
     "execution_count": 29,
     "metadata": {},
     "output_type": "execute_result"
    }
   ],
   "source": [
    "pca"
   ]
  },
  {
   "cell_type": "code",
   "execution_count": 23,
   "metadata": {
    "collapsed": false
   },
   "outputs": [
    {
     "data": {
      "text/plain": [
       "Text(15, 0.9, '15')"
      ]
     },
     "execution_count": 23,
     "metadata": {},
     "output_type": "execute_result"
    },
    {
     "data": {
      "image/png": "[encoded data removed]",
      "text/plain": [
       "<Figure size 432x288 with 1 Axes>"
      ]
     },
     "metadata": {},
     "output_type": "display_data"
    }
   ],
   "source": [
    "from sklearn.decomposition import PCA\n",
    "pca = PCA().fit(spect_df)\n",
    "plt.plot(np.cumsum(pca.explained_variance_ratio_))\n",
    "plt.xlabel('Number of components')\n",
    "plt.ylabel('Cumulative explained variance')\n",
    "plt.annotate('15',xy=(15, .90))"
   ]
  },
  {
   "cell_type": "code",
   "execution_count": 30,
   "metadata": {
    "collapsed": true
   },
   "outputs": [],
   "source": [
    "# consider first 15 components as they are explaining the 90% of variation in the data\n",
    "\n",
    "x_pca = PCA(n_components=15)\n",
    "spect_df_pca = x_pca.fit_transform(spect_df)\n",
    "spect_test_pca = x_pca.fit_transform(spect_test)"
   ]
  },
  {
   "cell_type": "code",
   "execution_count": 36,
   "metadata": {
    "collapsed": false
   },
   "outputs": [
    {
     "data": {
      "text/plain": [
       "Text(0.5, 1.0, 'Correlation between different features')"
      ]
     },
     "execution_count": 36,
     "metadata": {},
     "output_type": "execute_result"
    },
    {
     "data": {
      "image/png": "[encoded data removed]",
      "text/plain": [
       "<Figure size 432x288 with 2 Axes>"
      ]
     },
     "metadata": {},
     "output_type": "display_data"
    }
   ],
   "source": [
    "# correlation between the variables after transforming the data with PCA is 0\n",
    "\n",
    "correlation = pd.DataFrame(spect_df_pca).corr()\n",
    "sns.heatmap(correlation, vmax=1, square=True,cmap='viridis')\n",
    "plt.title('Correlation between different features')"
   ]
  },
  {
   "cell_type": "code",
   "execution_count": 37,
   "metadata": {
    "collapsed": false
   },
   "outputs": [
    {
     "data": {
      "text/plain": [
       "LogisticRegression(C=1e+42, class_weight=None, dual=False, fit_intercept=True,\n",
       "                   intercept_scaling=1, l1_ratio=None, max_iter=100,\n",
       "                   multi_class='auto', n_jobs=None, penalty='l2',\n",
       "                   random_state=None, solver='lbfgs', tol=0.0001, verbose=0,\n",
       "                   warm_start=False)"
      ]
     },
     "execution_count": 37,
     "metadata": {},
     "output_type": "execute_result"
    }
   ],
   "source": [
    "# train a logistic regression model on the training set\n",
    "from sklearn.linear_model import LogisticRegression\n",
    "\n",
    "# instantiate model\n",
    "pcalg = LogisticRegression(C=1e42)\n",
    "\n",
    "# fit model\n",
    "pcalg.fit(spect_df_pca, target)"
   ]
  },
  {
   "cell_type": "code",
   "execution_count": 38,
   "metadata": {
    "collapsed": true
   },
   "outputs": [],
   "source": [
    "# make class predictions for the testing set\n",
    "y_pred_class_pca = pcalg.predict(spect_test_pca)"
   ]
  },
  {
   "cell_type": "code",
   "execution_count": 39,
   "metadata": {
    "collapsed": false,
    "scrolled": true
   },
   "outputs": [
    {
     "name": "stdout",
     "output_type": "stream",
     "text": [
      "0.5775401069518716\n"
     ]
    }
   ],
   "source": [
    "# calculate accuracy\n",
    "print(metrics.accuracy_score(target_t, y_pred_class_pca))\n"
   ]
  },
  {
   "cell_type": "code",
   "execution_count": 40,
   "metadata": {
    "collapsed": false
   },
   "outputs": [
    {
     "name": "stdout",
     "output_type": "stream",
     "text": [
      "              precision    recall  f1-score   support\n",
      "\n",
      "           0       0.14      0.87      0.25        15\n",
      "           1       0.98      0.55      0.71       172\n",
      "\n",
      "    accuracy                           0.58       187\n",
      "   macro avg       0.56      0.71      0.48       187\n",
      "weighted avg       0.91      0.58      0.67       187\n",
      "\n"
     ]
    }
   ],
   "source": [
    "print (metrics.classification_report(target_t, y_pred_class_pca))"
   ]
  },
  {
   "cell_type": "code",
   "execution_count": 41,
   "metadata": {
    "collapsed": false
   },
   "outputs": [
    {
     "name": "stdout",
     "output_type": "stream",
     "text": [
      "[[13  2]\n",
      " [77 95]]\n"
     ]
    }
   ],
   "source": [
    "print(metrics.confusion_matrix(target_t,y_pred_class_pca))"
   ]
  },
  {
   "cell_type": "markdown",
   "metadata": {},
   "source": [
    "### Random Forest"
   ]
  },
  {
   "cell_type": "code",
   "execution_count": 42,
   "metadata": {
    "collapsed": true
   },
   "outputs": [],
   "source": [
    "from sklearn.ensemble import RandomForestClassifier\n",
    "rf_clf=RandomForestClassifier(max_depth = 5, min_samples_split=2, n_estimators = 10, random_state = 103)\n",
    "rf_model=rf_clf.fit(spect_df,target)\n",
    "rf_prediction = rf_model.predict(spect_test)"
   ]
  },
  {
   "cell_type": "code",
   "execution_count": 43,
   "metadata": {
    "collapsed": false
   },
   "outputs": [
    {
     "name": "stdout",
     "output_type": "stream",
     "text": [
      "0.4919786096256685\n"
     ]
    }
   ],
   "source": [
    "#calculate accuracy and other metrics\n",
    "print(metrics.accuracy_score(target_t,rf_prediction))"
   ]
  },
  {
   "cell_type": "code",
   "execution_count": 46,
   "metadata": {
    "collapsed": false
   },
   "outputs": [
    {
     "name": "stdout",
     "output_type": "stream",
     "text": [
      "              precision    recall  f1-score   support\n",
      "\n",
      "           0       0.13      0.93      0.23        15\n",
      "           1       0.99      0.45      0.62       172\n",
      "\n",
      "    accuracy                           0.49       187\n",
      "   macro avg       0.56      0.69      0.42       187\n",
      "weighted avg       0.92      0.49      0.59       187\n",
      "\n"
     ]
    }
   ],
   "source": [
    "print(metrics.classification_report(target_t,rf_prediction))"
   ]
  },
  {
   "cell_type": "code",
   "execution_count": 47,
   "metadata": {
    "collapsed": false
   },
   "outputs": [
    {
     "name": "stdout",
     "output_type": "stream",
     "text": [
      "[[14  1]\n",
      " [94 78]]\n"
     ]
    }
   ],
   "source": [
    "print(metrics.confusion_matrix(target_t,rf_prediction))"
   ]
  },
  {
   "cell_type": "markdown",
   "metadata": {},
   "source": [
    "### Applying PCA to Random Forest model"
   ]
  },
  {
   "cell_type": "code",
   "execution_count": 51,
   "metadata": {
    "collapsed": false
   },
   "outputs": [
    {
     "data": {
      "text/plain": [
       "0.975"
      ]
     },
     "execution_count": 51,
     "metadata": {},
     "output_type": "execute_result"
    }
   ],
   "source": [
    "rfClassifier=RandomForestClassifier(max_depth = 5, min_samples_split=2, n_estimators = 10, random_state = 103)\n",
    "rfClassifier.fit(spect_df_pca,target)\n",
    "rfClassifier.score(spect_df_pca,target)"
   ]
  },
  {
   "cell_type": "code",
   "execution_count": 52,
   "metadata": {
    "collapsed": false
   },
   "outputs": [
    {
     "name": "stdout",
     "output_type": "stream",
     "text": [
      "0.5133689839572193\n"
     ]
    }
   ],
   "source": [
    "# Now test the model\n",
    "# Consider first 15 components as they are explaining the 90% of variation in the data\n",
    "test_pred = rfClassifier.predict(spect_test_pca)\n",
    "#calculate accuracy and other metrics\n",
    "print(metrics.accuracy_score(target_t,test_pred))\n"
   ]
  },
  {
   "cell_type": "code",
   "execution_count": 53,
   "metadata": {
    "collapsed": false
   },
   "outputs": [
    {
     "name": "stdout",
     "output_type": "stream",
     "text": [
      "              precision    recall  f1-score   support\n",
      "\n",
      "           0       0.13      0.87      0.22        15\n",
      "           1       0.98      0.48      0.65       172\n",
      "\n",
      "    accuracy                           0.51       187\n",
      "   macro avg       0.55      0.67      0.43       187\n",
      "weighted avg       0.91      0.51      0.61       187\n",
      "\n"
     ]
    }
   ],
   "source": [
    "print(metrics.classification_report(target_t,test_pred))"
   ]
  },
  {
   "cell_type": "code",
   "execution_count": 54,
   "metadata": {
    "collapsed": false
   },
   "outputs": [
    {
     "name": "stdout",
     "output_type": "stream",
     "text": [
      "[[13  2]\n",
      " [89 83]]\n"
     ]
    }
   ],
   "source": [
    "print(metrics.confusion_matrix(target_t,test_pred))"
   ]
  },
  {
   "cell_type": "code",
   "execution_count": null,
   "metadata": {
    "collapsed": true
   },
   "outputs": [],
   "source": []
  }
 ],
 "metadata": {
  "anaconda-cloud": {},
  "kernelspec": {
   "display_name": "Python [conda env:test]",
   "language": "python",
   "name": "conda-env-test-py"
  },
  "language_info": {
   "codemirror_mode": {
    "name": "ipython",
    "version": 3
   },
   "file_extension": ".py",
   "mimetype": "text/x-python",
   "name": "python",
   "nbconvert_exporter": "python",
   "pygments_lexer": "ipython3",
   "version": "3.6.10"
  }
 },
 "nbformat": 4,
 "nbformat_minor": 1
}
